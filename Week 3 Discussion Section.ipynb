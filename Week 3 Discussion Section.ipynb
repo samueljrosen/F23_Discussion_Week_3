{
 "cells": [
  {
   "cell_type": "markdown",
   "id": "ac9476ae",
   "metadata": {},
   "source": [
    "# Ex 1) Bug Fixing Classes"
   ]
  },
  {
   "cell_type": "markdown",
   "id": "72f5e42b",
   "metadata": {},
   "source": [
    "I was so excited to make a class of my own, but I followed the class notes and now nothing is working! UGH! This sucks, like, I legit followed all of the notes exactly and I don't know why my code doesn't work! Can you help me out again? I'll totally get you on the next assignment okay thanks soooooo much!!!"
   ]
  },
  {
   "cell_type": "code",
   "execution_count": null,
   "id": "ae6caf9c",
   "metadata": {},
   "outputs": [],
   "source": [
    "def class Triangle(self, side_one, side_two, side_three):\n",
    "    ##UGH! Why doesn't this work!????? \n",
    "    self.side_one = side_one\n",
    "    self.side_two = side_two\n",
    "    self.side_three = side_three\n",
    "    return Triangle\n",
    "\n",
    "    def is_Equalaterial(side_one,side_two,side_three):\n",
    "        ##Ok this one for sure should work I mean it makes sense logically\n",
    "        if self.side_one==self.side_two and side_two==side_three and side_three=side_one:\n",
    "            return True\n",
    "        else:\n",
    "            return False"
   ]
  },
  {
   "cell_type": "markdown",
   "id": "f571afba",
   "metadata": {},
   "source": [
    "# Ex 2) Making our own Class, DND Style!"
   ]
  },
  {
   "cell_type": "markdown",
   "id": "fe673614",
   "metadata": {},
   "source": [
    "Let's make our own DND characters using Python classes! I've included some starter code below! Here is what our class needs to do:"
   ]
  },
  {
   "cell_type": "markdown",
   "id": "b20b8fd0",
   "metadata": {},
   "source": [
    "class Character: Characters must be initalized with a name, a DND character race, a DND character class and an alignment. Characters also have a property called lore which is not required on initialization. When initialzed, we should have created a character. All of the initialization parameters should be strings. \n",
    "\n",
    "def check_Alignment: Prints the characters alignment.\n",
    "\n",
    "def change_Alignment: Changes the characters alignment. \n",
    "\n",
    "def check_Name: Prints the characters name.\n",
    "\n",
    "def check_Class: Prints the characters class.\n",
    "\n",
    "def has_Darkvision: Prints if the character has darkvision based on their DND race. Gnomes, Elves, Half-orcs, Half-elves, Tieflings and Orcs have dark vision. \n",
    "\n",
    "def add_Lore: Updates the characters lore. Prints \"Lore Updated\" after completing. "
   ]
  },
  {
   "cell_type": "markdown",
   "id": "3f0053ac",
   "metadata": {},
   "source": [
    "DND Character Races:\n",
    "Dragonborn,\n",
    "Half-elf,\n",
    "Elf,\n",
    "Gnome,\n",
    "Human,\n",
    "Halfling,\n",
    "Half-orc,\n",
    "Tiefling,\n",
    "Dwarf,\n",
    "Orc\n",
    "\n",
    "DND Classes:\n",
    "Barbarian,\n",
    "Bard,\n",
    "Cleric, \n",
    "Druid, \n",
    "Fighter, \n",
    "Monk, \n",
    "Paladin, \n",
    "Ranger,\n",
    "Rogue, \n",
    "Sorcerer, \n",
    "Warlock,\n",
    "Wizard,\n",
    "Artificer,\n",
    "Blood Hunter\n",
    "\n",
    "DND Alignments:\n",
    "Lawful Good,\n",
    "Neutral Good,\n",
    "Chaotic Good,\n",
    "Lawful Neutral,\n",
    "True Neutral, \n",
    "Chaotic Neutral,\n",
    "Lawful Evil,\n",
    "Neutral Evil,\n",
    "Chaotic Evil"
   ]
  },
  {
   "cell_type": "code",
   "execution_count": null,
   "id": "ddc2ca04",
   "metadata": {},
   "outputs": [],
   "source": [
    "class Character():\n",
    "    def __init__(self, charname, charrace, charclass, charalignment):\n",
    "        \n",
    "    def check_Alignment():\n",
    "    \n",
    "    def change_Alignment():\n",
    "    \n",
    "    def check_Name():\n",
    "        \n",
    "    def check_Class():\n",
    "        \n",
    "    def has_Darkvision():\n",
    "        \n",
    "    def add_Lore():\n",
    "        \n",
    "    ##What other methods would you add? What other things might we want to check about our character? \n",
    "    \n",
    "    "
   ]
  }
 ],
 "metadata": {
  "kernelspec": {
   "display_name": "Python 3 (ipykernel)",
   "language": "python",
   "name": "python3"
  },
  "language_info": {
   "codemirror_mode": {
    "name": "ipython",
    "version": 3
   },
   "file_extension": ".py",
   "mimetype": "text/x-python",
   "name": "python",
   "nbconvert_exporter": "python",
   "pygments_lexer": "ipython3",
   "version": "3.9.13"
  }
 },
 "nbformat": 4,
 "nbformat_minor": 5
}
